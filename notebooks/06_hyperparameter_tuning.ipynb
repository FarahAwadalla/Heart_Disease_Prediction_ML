{
 "cells": [
  {
   "cell_type": "code",
   "execution_count": 1,
   "id": "9eac27bc-0ce9-4de9-b8ae-363c0572ca18",
   "metadata": {},
   "outputs": [],
   "source": [
    "import pandas as pd\n",
    "from sklearn.model_selection import train_test_split, GridSearchCV, RandomizedSearchCV\n",
    "from sklearn.linear_model import LogisticRegression\n",
    "from sklearn.tree import DecisionTreeClassifier\n",
    "from sklearn.ensemble import RandomForestClassifier\n",
    "from sklearn.svm import SVC\n",
    "from sklearn.metrics import accuracy_score, precision_score, recall_score, f1_score"
   ]
  },
  {
   "cell_type": "code",
   "execution_count": 2,
   "id": "f4a6fa2f-343e-4b2c-b7f1-e1146676c9b2",
   "metadata": {},
   "outputs": [],
   "source": [
    "df = pd.read_csv(\"reduced_dataset.csv\")"
   ]
  },
  {
   "cell_type": "code",
   "execution_count": 4,
   "id": "5b0d30bb-1fe2-48f7-8f80-302b7b95b61b",
   "metadata": {},
   "outputs": [],
   "source": [
    "df['target'] = (df['num'] > 0).astype(int)\n",
    "df = df.drop(columns=['num'])"
   ]
  },
  {
   "cell_type": "code",
   "execution_count": 5,
   "id": "e3deb843-c0a6-49bf-9a2b-dd6723bc3bfe",
   "metadata": {},
   "outputs": [],
   "source": [
    "X = df.drop(columns=['target'])\n",
    "y = df['target']"
   ]
  },
  {
   "cell_type": "code",
   "execution_count": 6,
   "id": "4d5a9622-55c3-4522-9f95-d3f2605ccd1e",
   "metadata": {},
   "outputs": [],
   "source": [
    "X_train, X_test, y_train, y_test = train_test_split(\n",
    "    X, y, test_size=0.2, random_state=42, stratify=y\n",
    ")"
   ]
  },
  {
   "cell_type": "code",
   "execution_count": null,
   "id": "ac6f64b0-9817-44ac-befb-90dec5aa499c",
   "metadata": {},
   "outputs": [],
   "source": [
    "# Define Models & Hyperparameter Grids"
   ]
  },
  {
   "cell_type": "code",
   "execution_count": 7,
   "id": "3203a0b7-1fef-4ebf-8a7a-fe260b1fb4d6",
   "metadata": {},
   "outputs": [],
   "source": [
    "# parameter grids\n",
    "param_grids = {\n",
    "    \"Logistic Regression\": {\n",
    "      \"C\" : [0.01, 0.1, 1, 10],\n",
    "        \"penalty\": [\"l1\",\"l2\",\"elasticnet\", None],\n",
    "        \"solver\": [\"saga\",\"lbfgs\"]\n",
    "    },\n",
    "\n",
    "    \"Decision Tree\" : {\n",
    "        \"max_depth\" : [3,5,10,None],\n",
    "        \"min_samples_split\" : [2,5,10],\n",
    "        \"criterion\" : [\"gini\", \"entropy\"]\n",
    "    },\n",
    "\n",
    "    \"Random Forest\" : {\n",
    "        \"n_estimators\" : [50,100,200],\n",
    "        \"max_depth\" : [5,10,None],\n",
    "        \"min_samples_split\" : [2, 5, 10]\n",
    "    },\n",
    "\n",
    "    \"SVM\" : {\n",
    "        \"C\" : [0.1, 1, 10],\n",
    "        \"kernel\" : [\"linear\", \"rbf\", \"poly\"],\n",
    "        \"gamma\" : [\"scale\", \"auto\"]\n",
    "    }\n",
    "}"
   ]
  },
  {
   "cell_type": "code",
   "execution_count": null,
   "id": "25798d58-2ba8-4ef5-9186-ec61b7d4fd5e",
   "metadata": {},
   "outputs": [],
   "source": [
    "# RandomizedSearchCV "
   ]
  },
  {
   "cell_type": "code",
   "execution_count": 10,
   "id": "db5cb147-5deb-4a0c-b2f1-9d9b76018e14",
   "metadata": {},
   "outputs": [
    {
     "name": "stderr",
     "output_type": "stream",
     "text": [
      "C:\\Users\\Lenovo\\miniconda3\\Lib\\site-packages\\sklearn\\model_selection\\_validation.py:516: FitFailedWarning: \n",
      "15 fits failed out of a total of 50.\n",
      "The score on these train-test partitions for these parameters will be set to nan.\n",
      "If these failures are not expected, you can try to debug them by setting error_score='raise'.\n",
      "\n",
      "Below are more details about the failures:\n",
      "--------------------------------------------------------------------------------\n",
      "10 fits failed with the following error:\n",
      "Traceback (most recent call last):\n",
      "  File \"C:\\Users\\Lenovo\\miniconda3\\Lib\\site-packages\\sklearn\\model_selection\\_validation.py\", line 859, in _fit_and_score\n",
      "    estimator.fit(X_train, y_train, **fit_params)\n",
      "    ~~~~~~~~~~~~~^^^^^^^^^^^^^^^^^^^^^^^^^^^^^^^^\n",
      "  File \"C:\\Users\\Lenovo\\miniconda3\\Lib\\site-packages\\sklearn\\base.py\", line 1365, in wrapper\n",
      "    return fit_method(estimator, *args, **kwargs)\n",
      "  File \"C:\\Users\\Lenovo\\miniconda3\\Lib\\site-packages\\sklearn\\linear_model\\_logistic.py\", line 1228, in fit\n",
      "    raise ValueError(\"l1_ratio must be specified when penalty is elasticnet.\")\n",
      "ValueError: l1_ratio must be specified when penalty is elasticnet.\n",
      "\n",
      "--------------------------------------------------------------------------------\n",
      "5 fits failed with the following error:\n",
      "Traceback (most recent call last):\n",
      "  File \"C:\\Users\\Lenovo\\miniconda3\\Lib\\site-packages\\sklearn\\model_selection\\_validation.py\", line 859, in _fit_and_score\n",
      "    estimator.fit(X_train, y_train, **fit_params)\n",
      "    ~~~~~~~~~~~~~^^^^^^^^^^^^^^^^^^^^^^^^^^^^^^^^\n",
      "  File \"C:\\Users\\Lenovo\\miniconda3\\Lib\\site-packages\\sklearn\\base.py\", line 1365, in wrapper\n",
      "    return fit_method(estimator, *args, **kwargs)\n",
      "  File \"C:\\Users\\Lenovo\\miniconda3\\Lib\\site-packages\\sklearn\\linear_model\\_logistic.py\", line 1218, in fit\n",
      "    solver = _check_solver(self.solver, self.penalty, self.dual)\n",
      "  File \"C:\\Users\\Lenovo\\miniconda3\\Lib\\site-packages\\sklearn\\linear_model\\_logistic.py\", line 64, in _check_solver\n",
      "    raise ValueError(\n",
      "    ...<2 lines>...\n",
      "    )\n",
      "ValueError: Solver lbfgs supports only 'l2' or None penalties, got l1 penalty.\n",
      "\n",
      "  warnings.warn(some_fits_failed_message, FitFailedWarning)\n",
      "C:\\Users\\Lenovo\\miniconda3\\Lib\\site-packages\\sklearn\\model_selection\\_search.py:1135: UserWarning: One or more of the test scores are non-finite: [       nan 0.8213992  0.8213992  0.8213992         nan 0.8213992\n",
      " 0.73089125 0.81494294        nan 0.8213992 ]\n",
      "  warnings.warn(\n",
      "C:\\Users\\Lenovo\\miniconda3\\Lib\\site-packages\\sklearn\\linear_model\\_logistic.py:1232: UserWarning: Setting penalty=None will ignore the C and l1_ratio parameters\n",
      "  warnings.warn(\n"
     ]
    },
    {
     "name": "stdout",
     "output_type": "stream",
     "text": [
      "Logistic Regression Randomized best params: {'solver': 'lbfgs', 'penalty': None, 'C': 10}\n",
      "Decision Tree Randomized best params: {'min_samples_split': 10, 'max_depth': 10, 'criterion': 'gini'}\n",
      "Random Forest Randomized best params: {'n_estimators': 200, 'min_samples_split': 10, 'max_depth': 5}\n",
      "SVM Randomized best params: {'kernel': 'linear', 'gamma': 'scale', 'C': 0.1}\n"
     ]
    }
   ],
   "source": [
    "best_models_random = {}\n",
    "\n",
    "for name, params in param_grids.items():\n",
    "    if name == \"Logistic Regression\":\n",
    "        model = LogisticRegression(max_iter = 5000)\n",
    "    elif name == \"Decision Tree\" : \n",
    "        model = DecisionTreeClassifier()\n",
    "    elif name == \"Random Forest\" : \n",
    "        model = RandomForestClassifier()\n",
    "    else:\n",
    "        model = SVC(probability=True)\n",
    "\n",
    "    random_search = RandomizedSearchCV(\n",
    "        estimator = model,\n",
    "        param_distributions = params,\n",
    "        n_iter = 10,\n",
    "        cv = 5,\n",
    "        scoring = \"f1\",\n",
    "        n_jobs = -1\n",
    "    )\n",
    "\n",
    "    random_search.fit(X_train, y_train)\n",
    "    best_models_random[name] = random_search.best_estimator_\n",
    "\n",
    "    print(f\"{name} Randomized best params: {random_search.best_params_}\")"
   ]
  },
  {
   "cell_type": "code",
   "execution_count": null,
   "id": "f889ab3d-7b41-4ad0-bde3-5cab5aa2f871",
   "metadata": {},
   "outputs": [],
   "source": [
    "# GridSearchCV"
   ]
  },
  {
   "cell_type": "code",
   "execution_count": 11,
   "id": "a965be6e-cfb4-477e-9f51-b2c911ad5682",
   "metadata": {},
   "outputs": [
    {
     "name": "stderr",
     "output_type": "stream",
     "text": [
      "C:\\Users\\Lenovo\\miniconda3\\Lib\\site-packages\\sklearn\\model_selection\\_validation.py:516: FitFailedWarning: \n",
      "60 fits failed out of a total of 160.\n",
      "The score on these train-test partitions for these parameters will be set to nan.\n",
      "If these failures are not expected, you can try to debug them by setting error_score='raise'.\n",
      "\n",
      "Below are more details about the failures:\n",
      "--------------------------------------------------------------------------------\n",
      "20 fits failed with the following error:\n",
      "Traceback (most recent call last):\n",
      "  File \"C:\\Users\\Lenovo\\miniconda3\\Lib\\site-packages\\sklearn\\model_selection\\_validation.py\", line 859, in _fit_and_score\n",
      "    estimator.fit(X_train, y_train, **fit_params)\n",
      "    ~~~~~~~~~~~~~^^^^^^^^^^^^^^^^^^^^^^^^^^^^^^^^\n",
      "  File \"C:\\Users\\Lenovo\\miniconda3\\Lib\\site-packages\\sklearn\\base.py\", line 1365, in wrapper\n",
      "    return fit_method(estimator, *args, **kwargs)\n",
      "  File \"C:\\Users\\Lenovo\\miniconda3\\Lib\\site-packages\\sklearn\\linear_model\\_logistic.py\", line 1218, in fit\n",
      "    solver = _check_solver(self.solver, self.penalty, self.dual)\n",
      "  File \"C:\\Users\\Lenovo\\miniconda3\\Lib\\site-packages\\sklearn\\linear_model\\_logistic.py\", line 64, in _check_solver\n",
      "    raise ValueError(\n",
      "    ...<2 lines>...\n",
      "    )\n",
      "ValueError: Solver lbfgs supports only 'l2' or None penalties, got l1 penalty.\n",
      "\n",
      "--------------------------------------------------------------------------------\n",
      "20 fits failed with the following error:\n",
      "Traceback (most recent call last):\n",
      "  File \"C:\\Users\\Lenovo\\miniconda3\\Lib\\site-packages\\sklearn\\model_selection\\_validation.py\", line 859, in _fit_and_score\n",
      "    estimator.fit(X_train, y_train, **fit_params)\n",
      "    ~~~~~~~~~~~~~^^^^^^^^^^^^^^^^^^^^^^^^^^^^^^^^\n",
      "  File \"C:\\Users\\Lenovo\\miniconda3\\Lib\\site-packages\\sklearn\\base.py\", line 1365, in wrapper\n",
      "    return fit_method(estimator, *args, **kwargs)\n",
      "  File \"C:\\Users\\Lenovo\\miniconda3\\Lib\\site-packages\\sklearn\\linear_model\\_logistic.py\", line 1228, in fit\n",
      "    raise ValueError(\"l1_ratio must be specified when penalty is elasticnet.\")\n",
      "ValueError: l1_ratio must be specified when penalty is elasticnet.\n",
      "\n",
      "--------------------------------------------------------------------------------\n",
      "20 fits failed with the following error:\n",
      "Traceback (most recent call last):\n",
      "  File \"C:\\Users\\Lenovo\\miniconda3\\Lib\\site-packages\\sklearn\\model_selection\\_validation.py\", line 859, in _fit_and_score\n",
      "    estimator.fit(X_train, y_train, **fit_params)\n",
      "    ~~~~~~~~~~~~~^^^^^^^^^^^^^^^^^^^^^^^^^^^^^^^^\n",
      "  File \"C:\\Users\\Lenovo\\miniconda3\\Lib\\site-packages\\sklearn\\base.py\", line 1365, in wrapper\n",
      "    return fit_method(estimator, *args, **kwargs)\n",
      "  File \"C:\\Users\\Lenovo\\miniconda3\\Lib\\site-packages\\sklearn\\linear_model\\_logistic.py\", line 1218, in fit\n",
      "    solver = _check_solver(self.solver, self.penalty, self.dual)\n",
      "  File \"C:\\Users\\Lenovo\\miniconda3\\Lib\\site-packages\\sklearn\\linear_model\\_logistic.py\", line 64, in _check_solver\n",
      "    raise ValueError(\n",
      "    ...<2 lines>...\n",
      "    )\n",
      "ValueError: Solver lbfgs supports only 'l2' or None penalties, got elasticnet penalty.\n",
      "\n",
      "  warnings.warn(some_fits_failed_message, FitFailedWarning)\n",
      "C:\\Users\\Lenovo\\miniconda3\\Lib\\site-packages\\sklearn\\model_selection\\_search.py:1135: UserWarning: One or more of the test scores are non-finite: [0.                nan 0.73089125 0.73089125        nan        nan\n",
      " 0.8213992  0.8213992  0.77287423        nan 0.80691341 0.80691341\n",
      "        nan        nan 0.8213992  0.8213992  0.81494294        nan\n",
      " 0.81494294 0.81494294        nan        nan 0.8213992  0.8213992\n",
      " 0.8213992         nan 0.8213992  0.8213992         nan        nan\n",
      " 0.8213992  0.8213992 ]\n",
      "  warnings.warn(\n",
      "C:\\Users\\Lenovo\\miniconda3\\Lib\\site-packages\\sklearn\\linear_model\\_logistic.py:1232: UserWarning: Setting penalty=None will ignore the C and l1_ratio parameters\n",
      "  warnings.warn(\n"
     ]
    },
    {
     "name": "stdout",
     "output_type": "stream",
     "text": [
      "Logistic Regression Grid best params: {'C': 0.01, 'penalty': None, 'solver': 'saga'}\n",
      "Decision Tree Grid best params: {'criterion': 'gini', 'max_depth': 10, 'min_samples_split': 10}\n",
      "Random Forest Grid best params: {'max_depth': None, 'min_samples_split': 10, 'n_estimators': 200}\n",
      "SVM Grid best params: {'C': 0.1, 'gamma': 'scale', 'kernel': 'linear'}\n"
     ]
    }
   ],
   "source": [
    "best_models_grid = {}\n",
    "\n",
    "for name, model in best_models_random.items():\n",
    "    params = param_grids[name]\n",
    "\n",
    "    grid_search = GridSearchCV(\n",
    "        estimator = model,\n",
    "        param_grid = {k: [v] if not isinstance(v, list) else v for k, v in params.items()},\n",
    "        cv = 5,\n",
    "        scoring = \"f1\",\n",
    "        n_jobs = -1\n",
    "    )\n",
    "\n",
    "    grid_search.fit(X_train, y_train)\n",
    "    best_models_grid[name] = grid_search.best_estimator_\n",
    "\n",
    "    print(f\"{name} Grid best params: {grid_search.best_params_}\")"
   ]
  },
  {
   "cell_type": "code",
   "execution_count": null,
   "id": "85778c7c-aca1-49bb-ab1e-2ac5b0485200",
   "metadata": {},
   "outputs": [],
   "source": [
    "# Evaluate Tuned Model "
   ]
  },
  {
   "cell_type": "code",
   "execution_count": null,
   "id": "4d0ebd13-c6cc-4c64-8dfc-05320ac9539d",
   "metadata": {},
   "outputs": [],
   "source": [
    "results = []\n",
    "\n",
    "for name, model in best_models_grid.items():\n",
    "    y_pred = model.predict(X_test)\n",
    "\n",
    "    acc = accuracy_score(y_test, y_pred)\n",
    "    prec = precision_score()y_test, y_pred)\n",
    "    rec = recall_score()"
   ]
  }
 ],
 "metadata": {
  "kernelspec": {
   "display_name": "Python [conda env:base] *",
   "language": "python",
   "name": "conda-base-py"
  },
  "language_info": {
   "codemirror_mode": {
    "name": "ipython",
    "version": 3
   },
   "file_extension": ".py",
   "mimetype": "text/x-python",
   "name": "python",
   "nbconvert_exporter": "python",
   "pygments_lexer": "ipython3",
   "version": "3.13.5"
  }
 },
 "nbformat": 4,
 "nbformat_minor": 5
}
